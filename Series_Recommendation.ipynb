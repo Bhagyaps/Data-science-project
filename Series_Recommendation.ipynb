{
 "cells": [
  {
   "cell_type": "code",
   "execution_count": 1,
   "id": "4bbb0fe4",
   "metadata": {},
   "outputs": [],
   "source": [
    "import pandas as pd\n",
    "import numpy as np\n",
    "import seaborn as sns\n",
    "import matplotlib.pyplot as plt\n",
    "%matplotlib inline"
   ]
  },
  {
   "cell_type": "code",
   "execution_count": 2,
   "id": "933dfdad",
   "metadata": {},
   "outputs": [],
   "source": [
    "df = pd.read_csv('AllThrillerSeriesList.csv')"
   ]
  },
  {
   "cell_type": "code",
   "execution_count": 3,
   "id": "23ae6a2d",
   "metadata": {},
   "outputs": [
    {
     "data": {
      "text/html": [
       "<div>\n",
       "<style scoped>\n",
       "    .dataframe tbody tr th:only-of-type {\n",
       "        vertical-align: middle;\n",
       "    }\n",
       "\n",
       "    .dataframe tbody tr th {\n",
       "        vertical-align: top;\n",
       "    }\n",
       "\n",
       "    .dataframe thead th {\n",
       "        text-align: right;\n",
       "    }\n",
       "</style>\n",
       "<table border=\"1\" class=\"dataframe\">\n",
       "  <thead>\n",
       "    <tr style=\"text-align: right;\">\n",
       "      <th></th>\n",
       "      <th>Unnamed: 0</th>\n",
       "      <th>Name</th>\n",
       "      <th>Year</th>\n",
       "      <th>Tv Certificate</th>\n",
       "      <th>Duration per episode</th>\n",
       "      <th>Genre</th>\n",
       "      <th>Ratings</th>\n",
       "      <th>Actor/Actress</th>\n",
       "      <th>Votes</th>\n",
       "    </tr>\n",
       "  </thead>\n",
       "  <tbody>\n",
       "    <tr>\n",
       "      <th>0</th>\n",
       "      <td>0</td>\n",
       "      <td>Andor</td>\n",
       "      <td>2022–</td>\n",
       "      <td>TV-14</td>\n",
       "      <td>40 min</td>\n",
       "      <td>Action, Adventure, Drama</td>\n",
       "      <td>8.4</td>\n",
       "      <td>Diego Luna, Kyle Soller, Stellan Skarsgård, G...</td>\n",
       "      <td>82,474</td>\n",
       "    </tr>\n",
       "    <tr>\n",
       "      <th>1</th>\n",
       "      <td>1</td>\n",
       "      <td>The Peripheral</td>\n",
       "      <td>2022–</td>\n",
       "      <td>TV-MA</td>\n",
       "      <td>NaN</td>\n",
       "      <td>Drama, Mystery, Sci-Fi</td>\n",
       "      <td>8.0</td>\n",
       "      <td>Chloë Grace Moretz, Gary Carr, Jack Reynor, J...</td>\n",
       "      <td>34,768</td>\n",
       "    </tr>\n",
       "    <tr>\n",
       "      <th>2</th>\n",
       "      <td>2</td>\n",
       "      <td>The Walking Dead</td>\n",
       "      <td>2010–2022</td>\n",
       "      <td>TV-MA</td>\n",
       "      <td>44 min</td>\n",
       "      <td>Drama, Horror, Thriller</td>\n",
       "      <td>8.1</td>\n",
       "      <td>Andrew Lincoln, Norman Reedus, Melissa McBrid...</td>\n",
       "      <td>988,666</td>\n",
       "    </tr>\n",
       "    <tr>\n",
       "      <th>3</th>\n",
       "      <td>3</td>\n",
       "      <td>Criminal Minds</td>\n",
       "      <td>2005–</td>\n",
       "      <td>TV-14</td>\n",
       "      <td>42 min</td>\n",
       "      <td>Crime, Drama, Mystery</td>\n",
       "      <td>8.1</td>\n",
       "      <td>Kirsten Vangsness, Matthew Gray Gubler, A.J. ...</td>\n",
       "      <td>198,262</td>\n",
       "    </tr>\n",
       "    <tr>\n",
       "      <th>4</th>\n",
       "      <td>4</td>\n",
       "      <td>Breaking Bad</td>\n",
       "      <td>2008–2013</td>\n",
       "      <td>TV-MA</td>\n",
       "      <td>49 min</td>\n",
       "      <td>Crime, Drama, Thriller</td>\n",
       "      <td>9.5</td>\n",
       "      <td>Bryan Cranston, Aaron Paul, Anna Gunn, Betsy ...</td>\n",
       "      <td>1,872,005</td>\n",
       "    </tr>\n",
       "  </tbody>\n",
       "</table>\n",
       "</div>"
      ],
      "text/plain": [
       "   Unnamed: 0              Name       Year Tv Certificate  \\\n",
       "0           0             Andor     2022–          TV-14    \n",
       "1           1    The Peripheral     2022–          TV-MA    \n",
       "2           2  The Walking Dead  2010–2022         TV-MA    \n",
       "3           3    Criminal Minds     2005–          TV-14    \n",
       "4           4      Breaking Bad  2008–2013         TV-MA    \n",
       "\n",
       "  Duration per episode                      Genre  Ratings  \\\n",
       "0              40 min    Action, Adventure, Drama      8.4   \n",
       "1                  NaN     Drama, Mystery, Sci-Fi      8.0   \n",
       "2              44 min     Drama, Horror, Thriller      8.1   \n",
       "3              42 min       Crime, Drama, Mystery      8.1   \n",
       "4              49 min      Crime, Drama, Thriller      9.5   \n",
       "\n",
       "                                       Actor/Actress       Votes  \n",
       "0   Diego Luna, Kyle Soller, Stellan Skarsgård, G...      82,474  \n",
       "1   Chloë Grace Moretz, Gary Carr, Jack Reynor, J...      34,768  \n",
       "2   Andrew Lincoln, Norman Reedus, Melissa McBrid...     988,666  \n",
       "3   Kirsten Vangsness, Matthew Gray Gubler, A.J. ...     198,262  \n",
       "4   Bryan Cranston, Aaron Paul, Anna Gunn, Betsy ...   1,872,005  "
      ]
     },
     "execution_count": 3,
     "metadata": {},
     "output_type": "execute_result"
    }
   ],
   "source": [
    "df.head()"
   ]
  },
  {
   "cell_type": "code",
   "execution_count": 4,
   "id": "ece74609",
   "metadata": {},
   "outputs": [
    {
     "name": "stdout",
     "output_type": "stream",
     "text": [
      "<class 'pandas.core.frame.DataFrame'>\n",
      "RangeIndex: 3256 entries, 0 to 3255\n",
      "Data columns (total 9 columns):\n",
      " #   Column                Non-Null Count  Dtype  \n",
      "---  ------                --------------  -----  \n",
      " 0   Unnamed: 0            3256 non-null   int64  \n",
      " 1   Name                  3256 non-null   object \n",
      " 2   Year                  3256 non-null   object \n",
      " 3   Tv Certificate        1306 non-null   object \n",
      " 4   Duration per episode  2391 non-null   object \n",
      " 5   Genre                 3256 non-null   object \n",
      " 6   Ratings               3256 non-null   float64\n",
      " 7   Actor/Actress         3256 non-null   object \n",
      " 8   Votes                 3256 non-null   object \n",
      "dtypes: float64(1), int64(1), object(7)\n",
      "memory usage: 229.1+ KB\n"
     ]
    }
   ],
   "source": [
    "df.info()"
   ]
  },
  {
   "cell_type": "code",
   "execution_count": 5,
   "id": "f6865038",
   "metadata": {},
   "outputs": [],
   "source": [
    "df.drop('Unnamed: 0',axis=1,inplace=True)"
   ]
  },
  {
   "cell_type": "code",
   "execution_count": 6,
   "id": "db3c67f0",
   "metadata": {},
   "outputs": [
    {
     "data": {
      "text/html": [
       "<div>\n",
       "<style scoped>\n",
       "    .dataframe tbody tr th:only-of-type {\n",
       "        vertical-align: middle;\n",
       "    }\n",
       "\n",
       "    .dataframe tbody tr th {\n",
       "        vertical-align: top;\n",
       "    }\n",
       "\n",
       "    .dataframe thead th {\n",
       "        text-align: right;\n",
       "    }\n",
       "</style>\n",
       "<table border=\"1\" class=\"dataframe\">\n",
       "  <thead>\n",
       "    <tr style=\"text-align: right;\">\n",
       "      <th></th>\n",
       "      <th>Name</th>\n",
       "      <th>Year</th>\n",
       "      <th>Tv Certificate</th>\n",
       "      <th>Duration per episode</th>\n",
       "      <th>Genre</th>\n",
       "      <th>Ratings</th>\n",
       "      <th>Actor/Actress</th>\n",
       "      <th>Votes</th>\n",
       "    </tr>\n",
       "  </thead>\n",
       "  <tbody>\n",
       "    <tr>\n",
       "      <th>0</th>\n",
       "      <td>Andor</td>\n",
       "      <td>2022–</td>\n",
       "      <td>TV-14</td>\n",
       "      <td>40 min</td>\n",
       "      <td>Action, Adventure, Drama</td>\n",
       "      <td>8.4</td>\n",
       "      <td>Diego Luna, Kyle Soller, Stellan Skarsgård, G...</td>\n",
       "      <td>82,474</td>\n",
       "    </tr>\n",
       "    <tr>\n",
       "      <th>1</th>\n",
       "      <td>The Peripheral</td>\n",
       "      <td>2022–</td>\n",
       "      <td>TV-MA</td>\n",
       "      <td>NaN</td>\n",
       "      <td>Drama, Mystery, Sci-Fi</td>\n",
       "      <td>8.0</td>\n",
       "      <td>Chloë Grace Moretz, Gary Carr, Jack Reynor, J...</td>\n",
       "      <td>34,768</td>\n",
       "    </tr>\n",
       "    <tr>\n",
       "      <th>2</th>\n",
       "      <td>The Walking Dead</td>\n",
       "      <td>2010–2022</td>\n",
       "      <td>TV-MA</td>\n",
       "      <td>44 min</td>\n",
       "      <td>Drama, Horror, Thriller</td>\n",
       "      <td>8.1</td>\n",
       "      <td>Andrew Lincoln, Norman Reedus, Melissa McBrid...</td>\n",
       "      <td>988,666</td>\n",
       "    </tr>\n",
       "    <tr>\n",
       "      <th>3</th>\n",
       "      <td>Criminal Minds</td>\n",
       "      <td>2005–</td>\n",
       "      <td>TV-14</td>\n",
       "      <td>42 min</td>\n",
       "      <td>Crime, Drama, Mystery</td>\n",
       "      <td>8.1</td>\n",
       "      <td>Kirsten Vangsness, Matthew Gray Gubler, A.J. ...</td>\n",
       "      <td>198,262</td>\n",
       "    </tr>\n",
       "    <tr>\n",
       "      <th>4</th>\n",
       "      <td>Breaking Bad</td>\n",
       "      <td>2008–2013</td>\n",
       "      <td>TV-MA</td>\n",
       "      <td>49 min</td>\n",
       "      <td>Crime, Drama, Thriller</td>\n",
       "      <td>9.5</td>\n",
       "      <td>Bryan Cranston, Aaron Paul, Anna Gunn, Betsy ...</td>\n",
       "      <td>1,872,005</td>\n",
       "    </tr>\n",
       "  </tbody>\n",
       "</table>\n",
       "</div>"
      ],
      "text/plain": [
       "               Name       Year Tv Certificate Duration per episode  \\\n",
       "0             Andor     2022–          TV-14               40 min    \n",
       "1    The Peripheral     2022–          TV-MA                   NaN   \n",
       "2  The Walking Dead  2010–2022         TV-MA               44 min    \n",
       "3    Criminal Minds     2005–          TV-14               42 min    \n",
       "4      Breaking Bad  2008–2013         TV-MA               49 min    \n",
       "\n",
       "                       Genre  Ratings  \\\n",
       "0   Action, Adventure, Drama      8.4   \n",
       "1     Drama, Mystery, Sci-Fi      8.0   \n",
       "2    Drama, Horror, Thriller      8.1   \n",
       "3      Crime, Drama, Mystery      8.1   \n",
       "4     Crime, Drama, Thriller      9.5   \n",
       "\n",
       "                                       Actor/Actress       Votes  \n",
       "0   Diego Luna, Kyle Soller, Stellan Skarsgård, G...      82,474  \n",
       "1   Chloë Grace Moretz, Gary Carr, Jack Reynor, J...      34,768  \n",
       "2   Andrew Lincoln, Norman Reedus, Melissa McBrid...     988,666  \n",
       "3   Kirsten Vangsness, Matthew Gray Gubler, A.J. ...     198,262  \n",
       "4   Bryan Cranston, Aaron Paul, Anna Gunn, Betsy ...   1,872,005  "
      ]
     },
     "execution_count": 6,
     "metadata": {},
     "output_type": "execute_result"
    }
   ],
   "source": [
    "df.head()"
   ]
  },
  {
   "cell_type": "code",
   "execution_count": 7,
   "id": "b33052f2",
   "metadata": {},
   "outputs": [
    {
     "data": {
      "text/plain": [
       "<AxesSubplot:>"
      ]
     },
     "execution_count": 7,
     "metadata": {},
     "output_type": "execute_result"
    },
    {
     "data": {
      "image/png": "[encoded data removed]",
      "text/plain": [
       "<Figure size 432x288 with 1 Axes>"
      ]
     },
     "metadata": {
      "needs_background": "light"
     },
     "output_type": "display_data"
    }
   ],
   "source": [
    "sns.heatmap(df.isnull(),cmap='viridis',cbar=False,yticklabels=False)"
   ]
  },
  {
   "cell_type": "code",
   "execution_count": 8,
   "id": "aabd7c5a",
   "metadata": {},
   "outputs": [],
   "source": [
    "df.drop(['Tv Certificate','Duration per episode'],axis=1,inplace=True)"
   ]
  },
  {
   "cell_type": "code",
   "execution_count": 9,
   "id": "15ca3fbb",
   "metadata": {},
   "outputs": [
    {
     "data": {
      "text/html": [
       "<div>\n",
       "<style scoped>\n",
       "    .dataframe tbody tr th:only-of-type {\n",
       "        vertical-align: middle;\n",
       "    }\n",
       "\n",
       "    .dataframe tbody tr th {\n",
       "        vertical-align: top;\n",
       "    }\n",
       "\n",
       "    .dataframe thead th {\n",
       "        text-align: right;\n",
       "    }\n",
       "</style>\n",
       "<table border=\"1\" class=\"dataframe\">\n",
       "  <thead>\n",
       "    <tr style=\"text-align: right;\">\n",
       "      <th></th>\n",
       "      <th>Name</th>\n",
       "      <th>Year</th>\n",
       "      <th>Genre</th>\n",
       "      <th>Ratings</th>\n",
       "      <th>Actor/Actress</th>\n",
       "      <th>Votes</th>\n",
       "    </tr>\n",
       "  </thead>\n",
       "  <tbody>\n",
       "    <tr>\n",
       "      <th>0</th>\n",
       "      <td>Andor</td>\n",
       "      <td>2022–</td>\n",
       "      <td>Action, Adventure, Drama</td>\n",
       "      <td>8.4</td>\n",
       "      <td>Diego Luna, Kyle Soller, Stellan Skarsgård, G...</td>\n",
       "      <td>82,474</td>\n",
       "    </tr>\n",
       "    <tr>\n",
       "      <th>1</th>\n",
       "      <td>The Peripheral</td>\n",
       "      <td>2022–</td>\n",
       "      <td>Drama, Mystery, Sci-Fi</td>\n",
       "      <td>8.0</td>\n",
       "      <td>Chloë Grace Moretz, Gary Carr, Jack Reynor, J...</td>\n",
       "      <td>34,768</td>\n",
       "    </tr>\n",
       "    <tr>\n",
       "      <th>2</th>\n",
       "      <td>The Walking Dead</td>\n",
       "      <td>2010–2022</td>\n",
       "      <td>Drama, Horror, Thriller</td>\n",
       "      <td>8.1</td>\n",
       "      <td>Andrew Lincoln, Norman Reedus, Melissa McBrid...</td>\n",
       "      <td>988,666</td>\n",
       "    </tr>\n",
       "    <tr>\n",
       "      <th>3</th>\n",
       "      <td>Criminal Minds</td>\n",
       "      <td>2005–</td>\n",
       "      <td>Crime, Drama, Mystery</td>\n",
       "      <td>8.1</td>\n",
       "      <td>Kirsten Vangsness, Matthew Gray Gubler, A.J. ...</td>\n",
       "      <td>198,262</td>\n",
       "    </tr>\n",
       "    <tr>\n",
       "      <th>4</th>\n",
       "      <td>Breaking Bad</td>\n",
       "      <td>2008–2013</td>\n",
       "      <td>Crime, Drama, Thriller</td>\n",
       "      <td>9.5</td>\n",
       "      <td>Bryan Cranston, Aaron Paul, Anna Gunn, Betsy ...</td>\n",
       "      <td>1,872,005</td>\n",
       "    </tr>\n",
       "  </tbody>\n",
       "</table>\n",
       "</div>"
      ],
      "text/plain": [
       "               Name       Year                      Genre  Ratings  \\\n",
       "0             Andor     2022–    Action, Adventure, Drama      8.4   \n",
       "1    The Peripheral     2022–      Drama, Mystery, Sci-Fi      8.0   \n",
       "2  The Walking Dead  2010–2022    Drama, Horror, Thriller      8.1   \n",
       "3    Criminal Minds     2005–       Crime, Drama, Mystery      8.1   \n",
       "4      Breaking Bad  2008–2013     Crime, Drama, Thriller      9.5   \n",
       "\n",
       "                                       Actor/Actress       Votes  \n",
       "0   Diego Luna, Kyle Soller, Stellan Skarsgård, G...      82,474  \n",
       "1   Chloë Grace Moretz, Gary Carr, Jack Reynor, J...      34,768  \n",
       "2   Andrew Lincoln, Norman Reedus, Melissa McBrid...     988,666  \n",
       "3   Kirsten Vangsness, Matthew Gray Gubler, A.J. ...     198,262  \n",
       "4   Bryan Cranston, Aaron Paul, Anna Gunn, Betsy ...   1,872,005  "
      ]
     },
     "execution_count": 9,
     "metadata": {},
     "output_type": "execute_result"
    }
   ],
   "source": [
    "df.head()"
   ]
  },
  {
   "cell_type": "code",
   "execution_count": 10,
   "id": "c29c3dd9",
   "metadata": {},
   "outputs": [
    {
     "data": {
      "text/plain": [
       "<AxesSubplot:>"
      ]
     },
     "execution_count": 10,
     "metadata": {},
     "output_type": "execute_result"
    },
    {
     "data": {
      "image/png": "[encoded data removed]",
      "text/plain": [
       "<Figure size 432x288 with 1 Axes>"
      ]
     },
     "metadata": {
      "needs_background": "light"
     },
     "output_type": "display_data"
    }
   ],
   "source": [
    "sns.heatmap(df.isnull(),cmap='viridis',cbar=False,yticklabels=False)"
   ]
  },
  {
   "cell_type": "code",
   "execution_count": 11,
   "id": "5599f822",
   "metadata": {},
   "outputs": [
    {
     "name": "stdout",
     "output_type": "stream",
     "text": [
      "<class 'pandas.core.frame.DataFrame'>\n",
      "RangeIndex: 3256 entries, 0 to 3255\n",
      "Data columns (total 6 columns):\n",
      " #   Column         Non-Null Count  Dtype  \n",
      "---  ------         --------------  -----  \n",
      " 0   Name           3256 non-null   object \n",
      " 1   Year           3256 non-null   object \n",
      " 2   Genre          3256 non-null   object \n",
      " 3   Ratings        3256 non-null   float64\n",
      " 4   Actor/Actress  3256 non-null   object \n",
      " 5   Votes          3256 non-null   object \n",
      "dtypes: float64(1), object(5)\n",
      "memory usage: 152.8+ KB\n"
     ]
    }
   ],
   "source": [
    "df.info()"
   ]
  },
  {
   "cell_type": "code",
   "execution_count": 12,
   "id": "9eafffaf",
   "metadata": {},
   "outputs": [],
   "source": [
    "df['Votes'] = df['Votes'].str.replace(',', '')"
   ]
  },
  {
   "cell_type": "code",
   "execution_count": 13,
   "id": "ca09e48d",
   "metadata": {},
   "outputs": [
    {
     "data": {
      "text/plain": [
       "0       82474\n",
       "1       34768\n",
       "2      988666\n",
       "3      198262\n",
       "4     1872005\n",
       "Name: Votes, dtype: object"
      ]
     },
     "execution_count": 13,
     "metadata": {},
     "output_type": "execute_result"
    }
   ],
   "source": [
    "df['Votes'].head()"
   ]
  },
  {
   "cell_type": "code",
   "execution_count": 14,
   "id": "f32a0178",
   "metadata": {},
   "outputs": [],
   "source": [
    "df['Votes'] = pd.to_numeric(df['Votes'],errors='coerce').astype('float64')"
   ]
  },
  {
   "cell_type": "code",
   "execution_count": 15,
   "id": "94aa1131",
   "metadata": {},
   "outputs": [
    {
     "data": {
      "text/plain": [
       "pandas.core.series.Series"
      ]
     },
     "execution_count": 15,
     "metadata": {},
     "output_type": "execute_result"
    }
   ],
   "source": [
    "type(df['Votes'])"
   ]
  },
  {
   "cell_type": "code",
   "execution_count": 16,
   "id": "ea4435bd",
   "metadata": {},
   "outputs": [
    {
     "name": "stdout",
     "output_type": "stream",
     "text": [
      "<class 'pandas.core.frame.DataFrame'>\n",
      "RangeIndex: 3256 entries, 0 to 3255\n",
      "Data columns (total 6 columns):\n",
      " #   Column         Non-Null Count  Dtype  \n",
      "---  ------         --------------  -----  \n",
      " 0   Name           3256 non-null   object \n",
      " 1   Year           3256 non-null   object \n",
      " 2   Genre          3256 non-null   object \n",
      " 3   Ratings        3256 non-null   float64\n",
      " 4   Actor/Actress  3256 non-null   object \n",
      " 5   Votes          3253 non-null   float64\n",
      "dtypes: float64(2), object(4)\n",
      "memory usage: 152.8+ KB\n"
     ]
    }
   ],
   "source": [
    "df.info()"
   ]
  },
  {
   "cell_type": "code",
   "execution_count": 17,
   "id": "7a2e2d79",
   "metadata": {},
   "outputs": [
    {
     "data": {
      "text/html": [
       "<div>\n",
       "<style scoped>\n",
       "    .dataframe tbody tr th:only-of-type {\n",
       "        vertical-align: middle;\n",
       "    }\n",
       "\n",
       "    .dataframe tbody tr th {\n",
       "        vertical-align: top;\n",
       "    }\n",
       "\n",
       "    .dataframe thead th {\n",
       "        text-align: right;\n",
       "    }\n",
       "</style>\n",
       "<table border=\"1\" class=\"dataframe\">\n",
       "  <thead>\n",
       "    <tr style=\"text-align: right;\">\n",
       "      <th></th>\n",
       "      <th>Name</th>\n",
       "      <th>Year</th>\n",
       "      <th>Genre</th>\n",
       "      <th>Ratings</th>\n",
       "      <th>Actor/Actress</th>\n",
       "      <th>Votes</th>\n",
       "    </tr>\n",
       "  </thead>\n",
       "  <tbody>\n",
       "    <tr>\n",
       "      <th>0</th>\n",
       "      <td>Andor</td>\n",
       "      <td>2022–</td>\n",
       "      <td>Action, Adventure, Drama</td>\n",
       "      <td>8.4</td>\n",
       "      <td>Diego Luna, Kyle Soller, Stellan Skarsgård, G...</td>\n",
       "      <td>82474.0</td>\n",
       "    </tr>\n",
       "    <tr>\n",
       "      <th>1</th>\n",
       "      <td>The Peripheral</td>\n",
       "      <td>2022–</td>\n",
       "      <td>Drama, Mystery, Sci-Fi</td>\n",
       "      <td>8.0</td>\n",
       "      <td>Chloë Grace Moretz, Gary Carr, Jack Reynor, J...</td>\n",
       "      <td>34768.0</td>\n",
       "    </tr>\n",
       "    <tr>\n",
       "      <th>2</th>\n",
       "      <td>The Walking Dead</td>\n",
       "      <td>2010–2022</td>\n",
       "      <td>Drama, Horror, Thriller</td>\n",
       "      <td>8.1</td>\n",
       "      <td>Andrew Lincoln, Norman Reedus, Melissa McBrid...</td>\n",
       "      <td>988666.0</td>\n",
       "    </tr>\n",
       "    <tr>\n",
       "      <th>3</th>\n",
       "      <td>Criminal Minds</td>\n",
       "      <td>2005–</td>\n",
       "      <td>Crime, Drama, Mystery</td>\n",
       "      <td>8.1</td>\n",
       "      <td>Kirsten Vangsness, Matthew Gray Gubler, A.J. ...</td>\n",
       "      <td>198262.0</td>\n",
       "    </tr>\n",
       "    <tr>\n",
       "      <th>4</th>\n",
       "      <td>Breaking Bad</td>\n",
       "      <td>2008–2013</td>\n",
       "      <td>Crime, Drama, Thriller</td>\n",
       "      <td>9.5</td>\n",
       "      <td>Bryan Cranston, Aaron Paul, Anna Gunn, Betsy ...</td>\n",
       "      <td>1872005.0</td>\n",
       "    </tr>\n",
       "  </tbody>\n",
       "</table>\n",
       "</div>"
      ],
      "text/plain": [
       "               Name       Year                      Genre  Ratings  \\\n",
       "0             Andor     2022–    Action, Adventure, Drama      8.4   \n",
       "1    The Peripheral     2022–      Drama, Mystery, Sci-Fi      8.0   \n",
       "2  The Walking Dead  2010–2022    Drama, Horror, Thriller      8.1   \n",
       "3    Criminal Minds     2005–       Crime, Drama, Mystery      8.1   \n",
       "4      Breaking Bad  2008–2013     Crime, Drama, Thriller      9.5   \n",
       "\n",
       "                                       Actor/Actress      Votes  \n",
       "0   Diego Luna, Kyle Soller, Stellan Skarsgård, G...    82474.0  \n",
       "1   Chloë Grace Moretz, Gary Carr, Jack Reynor, J...    34768.0  \n",
       "2   Andrew Lincoln, Norman Reedus, Melissa McBrid...   988666.0  \n",
       "3   Kirsten Vangsness, Matthew Gray Gubler, A.J. ...   198262.0  \n",
       "4   Bryan Cranston, Aaron Paul, Anna Gunn, Betsy ...  1872005.0  "
      ]
     },
     "execution_count": 17,
     "metadata": {},
     "output_type": "execute_result"
    }
   ],
   "source": [
    "df.head()"
   ]
  },
  {
   "cell_type": "code",
   "execution_count": 18,
   "id": "fe47d65b",
   "metadata": {},
   "outputs": [
    {
     "data": {
      "text/plain": [
       "2022–        213\n",
       "2021–        213\n",
       "2020–        149\n",
       "2019–        108\n",
       "2020          86\n",
       "            ... \n",
       "1974–1980      1\n",
       "1995–2005      1\n",
       "2002–2011      1\n",
       "1958–1961      1\n",
       "1988–          1\n",
       "Name: Year, Length: 523, dtype: int64"
      ]
     },
     "execution_count": 18,
     "metadata": {},
     "output_type": "execute_result"
    }
   ],
   "source": [
    "df['Year'].value_counts()"
   ]
  },
  {
   "cell_type": "code",
   "execution_count": 19,
   "id": "2b30ef92",
   "metadata": {},
   "outputs": [
    {
     "data": {
      "text/plain": [
       "<AxesSubplot:xlabel='Year', ylabel='count'>"
      ]
     },
     "execution_count": 19,
     "metadata": {},
     "output_type": "execute_result"
    },
    {
     "data": {
      "image/png": "[encoded data removed]",
      "text/plain": [
       "<Figure size 1080x360 with 1 Axes>"
      ]
     },
     "metadata": {
      "needs_background": "light"
     },
     "output_type": "display_data"
    }
   ],
   "source": [
    "plt.figure(figsize=(15,5))\n",
    "sns.countplot(x='Year',data=df,palette='rainbow')"
   ]
  },
  {
   "cell_type": "code",
   "execution_count": 20,
   "id": "069b898a",
   "metadata": {},
   "outputs": [
    {
     "data": {
      "text/plain": [
       "<AxesSubplot:xlabel='Ratings', ylabel='Genre'>"
      ]
     },
     "execution_count": 20,
     "metadata": {},
     "output_type": "execute_result"
    },
    {
     "data": {
      "image/png": "[encoded data removed]",
      "text/plain": [
       "<Figure size 1080x432 with 1 Axes>"
      ]
     },
     "metadata": {
      "needs_background": "light"
     },
     "output_type": "display_data"
    }
   ],
   "source": [
    "plt.figure(figsize=(15,6))\n",
    "sns.boxplot(x='Ratings',y='Genre',data=df,palette='RdBu')"
   ]
  },
  {
   "cell_type": "code",
   "execution_count": 21,
   "id": "bda379fd",
   "metadata": {},
   "outputs": [
    {
     "data": {
      "text/plain": [
       "413"
      ]
     },
     "execution_count": 21,
     "metadata": {},
     "output_type": "execute_result"
    }
   ],
   "source": [
    "df['Genre'].nunique()"
   ]
  },
  {
   "cell_type": "code",
   "execution_count": 22,
   "id": "2afa2e64",
   "metadata": {},
   "outputs": [
    {
     "data": {
      "text/plain": [
       "Name\n",
       "The Twilight Zone               4\n",
       "Your Honor                      4\n",
       "Teenage Mutant Ninja Turtles    3\n",
       "Undercover                      3\n",
       "The Invisible Man               3\n",
       "Name: Ratings, dtype: int64"
      ]
     },
     "execution_count": 22,
     "metadata": {},
     "output_type": "execute_result"
    }
   ],
   "source": [
    "df.groupby('Name')['Ratings'].count().sort_values(ascending=False).head()"
   ]
  },
  {
   "cell_type": "code",
   "execution_count": 23,
   "id": "852bca4f",
   "metadata": {},
   "outputs": [
    {
     "data": {
      "text/plain": [
       "Name\n",
       "The Twilight Zone               4\n",
       "Your Honor                      4\n",
       "The Invisible Man               3\n",
       "Undercover                      3\n",
       "Teenage Mutant Ninja Turtles    3\n",
       "Name: Votes, dtype: int64"
      ]
     },
     "execution_count": 23,
     "metadata": {},
     "output_type": "execute_result"
    }
   ],
   "source": [
    "df.groupby('Name')['Votes'].count().sort_values(ascending=False).head()"
   ]
  },
  {
   "cell_type": "code",
   "execution_count": 24,
   "id": "2d111d17",
   "metadata": {},
   "outputs": [
    {
     "data": {
      "text/plain": [
       "<AxesSubplot:xlabel='Ratings', ylabel='Votes'>"
      ]
     },
     "execution_count": 24,
     "metadata": {},
     "output_type": "execute_result"
    },
    {
     "data": {
      "image/png": "[encoded data removed]",
      "text/plain": [
       "<Figure size 432x288 with 1 Axes>"
      ]
     },
     "metadata": {
      "needs_background": "light"
     },
     "output_type": "display_data"
    }
   ],
   "source": [
    "sns.scatterplot(x='Ratings',y='Votes',data=df)"
   ]
  },
  {
   "cell_type": "code",
   "execution_count": 25,
   "id": "27dae0b5",
   "metadata": {},
   "outputs": [
    {
     "data": {
      "text/plain": [
       "<AxesSubplot:xlabel='Votes', ylabel='Ratings'>"
      ]
     },
     "execution_count": 25,
     "metadata": {},
     "output_type": "execute_result"
    },
    {
     "data": {
      "image/png": "[encoded data removed]",
      "text/plain": [
       "<Figure size 432x288 with 1 Axes>"
      ]
     },
     "metadata": {
      "needs_background": "light"
     },
     "output_type": "display_data"
    }
   ],
   "source": [
    "sns.scatterplot(x='Votes',y='Ratings',data=df)"
   ]
  },
  {
   "cell_type": "code",
   "execution_count": 26,
   "id": "14e76c49",
   "metadata": {},
   "outputs": [
    {
     "data": {
      "text/plain": [
       "<seaborn.axisgrid.JointGrid at 0x28330d2fac0>"
      ]
     },
     "execution_count": 26,
     "metadata": {},
     "output_type": "execute_result"
    },
    {
     "data": {
      "image/png": "[encoded data removed]",
      "text/plain": [
       "<Figure size 432x432 with 3 Axes>"
      ]
     },
     "metadata": {
      "needs_background": "light"
     },
     "output_type": "display_data"
    }
   ],
   "source": [
    "sns.jointplot(x='Ratings',y='Votes',data=df,alpha=0.5)"
   ]
  },
  {
   "cell_type": "code",
   "execution_count": 33,
   "id": "da631a22",
   "metadata": {},
   "outputs": [
    {
     "data": {
      "text/html": [
       "<div>\n",
       "<style scoped>\n",
       "    .dataframe tbody tr th:only-of-type {\n",
       "        vertical-align: middle;\n",
       "    }\n",
       "\n",
       "    .dataframe tbody tr th {\n",
       "        vertical-align: top;\n",
       "    }\n",
       "\n",
       "    .dataframe thead th {\n",
       "        text-align: right;\n",
       "    }\n",
       "</style>\n",
       "<table border=\"1\" class=\"dataframe\">\n",
       "  <thead>\n",
       "    <tr style=\"text-align: right;\">\n",
       "      <th></th>\n",
       "      <th>Ratings</th>\n",
       "      <th>Votes</th>\n",
       "    </tr>\n",
       "  </thead>\n",
       "  <tbody>\n",
       "    <tr>\n",
       "      <th>Ratings</th>\n",
       "      <td>1.00000</td>\n",
       "      <td>0.16404</td>\n",
       "    </tr>\n",
       "    <tr>\n",
       "      <th>Votes</th>\n",
       "      <td>0.16404</td>\n",
       "      <td>1.00000</td>\n",
       "    </tr>\n",
       "  </tbody>\n",
       "</table>\n",
       "</div>"
      ],
      "text/plain": [
       "         Ratings    Votes\n",
       "Ratings  1.00000  0.16404\n",
       "Votes    0.16404  1.00000"
      ]
     },
     "execution_count": 33,
     "metadata": {},
     "output_type": "execute_result"
    }
   ],
   "source": [
    "df.corr()"
   ]
  },
  {
   "cell_type": "code",
   "execution_count": 34,
   "id": "959b7c0d",
   "metadata": {},
   "outputs": [
    {
     "data": {
      "text/plain": [
       "Name\n",
       "\"Peacekeeping Infantry Battalion\"    5.2\n",
       "#15SecondScare                       5.2\n",
       "'Way Out                             7.8\n",
       "+ de 100 mentiras                    6.5\n",
       ".hack//SIGN                          6.8\n",
       "                                    ... \n",
       "Æon Flux                             7.8\n",
       "Çukur                                7.5\n",
       "Érase una vez                        7.5\n",
       "Ölüm Zamani                          6.3\n",
       "Über die Grenze                      7.1\n",
       "Name: Ratings, Length: 3165, dtype: float64"
      ]
     },
     "execution_count": 34,
     "metadata": {},
     "output_type": "execute_result"
    }
   ],
   "source": [
    "df.groupby('Name')['Ratings'].mean()"
   ]
  },
  {
   "cell_type": "code",
   "execution_count": 36,
   "id": "c70766aa",
   "metadata": {},
   "outputs": [
    {
     "data": {
      "text/html": [
       "<div>\n",
       "<style scoped>\n",
       "    .dataframe tbody tr th:only-of-type {\n",
       "        vertical-align: middle;\n",
       "    }\n",
       "\n",
       "    .dataframe tbody tr th {\n",
       "        vertical-align: top;\n",
       "    }\n",
       "\n",
       "    .dataframe thead th {\n",
       "        text-align: right;\n",
       "    }\n",
       "</style>\n",
       "<table border=\"1\" class=\"dataframe\">\n",
       "  <thead>\n",
       "    <tr style=\"text-align: right;\">\n",
       "      <th></th>\n",
       "      <th>Name</th>\n",
       "      <th>Year</th>\n",
       "      <th>Genre</th>\n",
       "      <th>Ratings</th>\n",
       "      <th>Actor/Actress</th>\n",
       "      <th>Votes</th>\n",
       "    </tr>\n",
       "  </thead>\n",
       "  <tbody>\n",
       "    <tr>\n",
       "      <th>4</th>\n",
       "      <td>Breaking Bad</td>\n",
       "      <td>2008–2013</td>\n",
       "      <td>Crime, Drama, Thriller</td>\n",
       "      <td>9.5</td>\n",
       "      <td>Bryan Cranston, Aaron Paul, Anna Gunn, Betsy ...</td>\n",
       "      <td>1872005.0</td>\n",
       "    </tr>\n",
       "    <tr>\n",
       "      <th>7</th>\n",
       "      <td>Stranger Things</td>\n",
       "      <td>2016–</td>\n",
       "      <td>Drama, Fantasy, Horror</td>\n",
       "      <td>8.7</td>\n",
       "      <td>Millie Bobby Brown, Finn Wolfhard, Winona Ryd...</td>\n",
       "      <td>1179168.0</td>\n",
       "    </tr>\n",
       "    <tr>\n",
       "      <th>2</th>\n",
       "      <td>The Walking Dead</td>\n",
       "      <td>2010–2022</td>\n",
       "      <td>Drama, Horror, Thriller</td>\n",
       "      <td>8.1</td>\n",
       "      <td>Andrew Lincoln, Norman Reedus, Melissa McBrid...</td>\n",
       "      <td>988666.0</td>\n",
       "    </tr>\n",
       "    <tr>\n",
       "      <th>48</th>\n",
       "      <td>Sherlock</td>\n",
       "      <td>2010–2017</td>\n",
       "      <td>Crime, Drama, Mystery</td>\n",
       "      <td>9.1</td>\n",
       "      <td>Benedict Cumberbatch, Martin Freeman, Una Stu...</td>\n",
       "      <td>924099.0</td>\n",
       "    </tr>\n",
       "    <tr>\n",
       "      <th>52</th>\n",
       "      <td>Dexter</td>\n",
       "      <td>2006–2013</td>\n",
       "      <td>Crime, Drama, Mystery</td>\n",
       "      <td>8.7</td>\n",
       "      <td>Michael C. Hall, Jennifer Carpenter, David Za...</td>\n",
       "      <td>725342.0</td>\n",
       "    </tr>\n",
       "    <tr>\n",
       "      <th>28</th>\n",
       "      <td>True Detective</td>\n",
       "      <td>2014–2019</td>\n",
       "      <td>Crime, Drama, Mystery</td>\n",
       "      <td>8.9</td>\n",
       "      <td>Vince Vaughn, Colin Farrell, Rachel McAdams, ...</td>\n",
       "      <td>570238.0</td>\n",
       "    </tr>\n",
       "    <tr>\n",
       "      <th>32</th>\n",
       "      <td>Lost</td>\n",
       "      <td>2004–2010</td>\n",
       "      <td>Adventure, Drama, Fantasy</td>\n",
       "      <td>8.3</td>\n",
       "      <td>Jorge Garcia, Josh Holloway, Yunjin Kim, Evan...</td>\n",
       "      <td>553399.0</td>\n",
       "    </tr>\n",
       "    <tr>\n",
       "      <th>26</th>\n",
       "      <td>Black Mirror</td>\n",
       "      <td>2011–2019</td>\n",
       "      <td>Drama, Mystery, Sci-Fi</td>\n",
       "      <td>8.8</td>\n",
       "      <td>Daniel Lapaine, Hannah John-Kamen, Michaela C...</td>\n",
       "      <td>545497.0</td>\n",
       "    </tr>\n",
       "    <tr>\n",
       "      <th>59</th>\n",
       "      <td>Prison Break</td>\n",
       "      <td>2005–2017</td>\n",
       "      <td>Action, Crime, Drama</td>\n",
       "      <td>8.3</td>\n",
       "      <td>Dominic Purcell, Wentworth Miller, Amaury Nol...</td>\n",
       "      <td>535231.0</td>\n",
       "    </tr>\n",
       "    <tr>\n",
       "      <th>61</th>\n",
       "      <td>Money Heist</td>\n",
       "      <td>2017–2021</td>\n",
       "      <td>Action, Crime, Drama</td>\n",
       "      <td>8.2</td>\n",
       "      <td>Úrsula Corberó, Álvaro Morte, Itziar Ituño, P...</td>\n",
       "      <td>475933.0</td>\n",
       "    </tr>\n",
       "  </tbody>\n",
       "</table>\n",
       "</div>"
      ],
      "text/plain": [
       "                Name       Year                       Genre  Ratings  \\\n",
       "4       Breaking Bad  2008–2013      Crime, Drama, Thriller      9.5   \n",
       "7    Stranger Things     2016–       Drama, Fantasy, Horror      8.7   \n",
       "2   The Walking Dead  2010–2022     Drama, Horror, Thriller      8.1   \n",
       "48          Sherlock  2010–2017       Crime, Drama, Mystery      9.1   \n",
       "52            Dexter  2006–2013       Crime, Drama, Mystery      8.7   \n",
       "28    True Detective  2014–2019       Crime, Drama, Mystery      8.9   \n",
       "32              Lost  2004–2010   Adventure, Drama, Fantasy      8.3   \n",
       "26      Black Mirror  2011–2019      Drama, Mystery, Sci-Fi      8.8   \n",
       "59      Prison Break  2005–2017        Action, Crime, Drama      8.3   \n",
       "61       Money Heist  2017–2021        Action, Crime, Drama      8.2   \n",
       "\n",
       "                                        Actor/Actress      Votes  \n",
       "4    Bryan Cranston, Aaron Paul, Anna Gunn, Betsy ...  1872005.0  \n",
       "7    Millie Bobby Brown, Finn Wolfhard, Winona Ryd...  1179168.0  \n",
       "2    Andrew Lincoln, Norman Reedus, Melissa McBrid...   988666.0  \n",
       "48   Benedict Cumberbatch, Martin Freeman, Una Stu...   924099.0  \n",
       "52   Michael C. Hall, Jennifer Carpenter, David Za...   725342.0  \n",
       "28   Vince Vaughn, Colin Farrell, Rachel McAdams, ...   570238.0  \n",
       "32   Jorge Garcia, Josh Holloway, Yunjin Kim, Evan...   553399.0  \n",
       "26   Daniel Lapaine, Hannah John-Kamen, Michaela C...   545497.0  \n",
       "59   Dominic Purcell, Wentworth Miller, Amaury Nol...   535231.0  \n",
       "61   Úrsula Corberó, Álvaro Morte, Itziar Ituño, P...   475933.0  "
      ]
     },
     "execution_count": 36,
     "metadata": {},
     "output_type": "execute_result"
    }
   ],
   "source": [
    "df.sort_values('Votes',ascending=False).head(10)"
   ]
  },
  {
   "cell_type": "code",
   "execution_count": 58,
   "id": "33ae2a7f",
   "metadata": {},
   "outputs": [
    {
     "data": {
      "text/html": [
       "<div>\n",
       "<style scoped>\n",
       "    .dataframe tbody tr th:only-of-type {\n",
       "        vertical-align: middle;\n",
       "    }\n",
       "\n",
       "    .dataframe tbody tr th {\n",
       "        vertical-align: top;\n",
       "    }\n",
       "\n",
       "    .dataframe thead th {\n",
       "        text-align: right;\n",
       "    }\n",
       "</style>\n",
       "<table border=\"1\" class=\"dataframe\">\n",
       "  <thead>\n",
       "    <tr style=\"text-align: right;\">\n",
       "      <th>Name</th>\n",
       "      <th>\"Peacekeeping Infantry Battalion\"</th>\n",
       "      <th>#15SecondScare</th>\n",
       "      <th>'Way Out</th>\n",
       "      <th>+ de 100 mentiras</th>\n",
       "      <th>.hack//SIGN</th>\n",
       "      <th>009-1</th>\n",
       "      <th>100 Code</th>\n",
       "      <th>100 Days</th>\n",
       "      <th>10i entoli</th>\n",
       "      <th>11th Hour</th>\n",
       "      <th>...</th>\n",
       "      <th>Zoids</th>\n",
       "      <th>Zoo</th>\n",
       "      <th>Zveroboy</th>\n",
       "      <th>Äkta människor</th>\n",
       "      <th>Ängelby</th>\n",
       "      <th>Æon Flux</th>\n",
       "      <th>Çukur</th>\n",
       "      <th>Érase una vez</th>\n",
       "      <th>Ölüm Zamani</th>\n",
       "      <th>Über die Grenze</th>\n",
       "    </tr>\n",
       "  </thead>\n",
       "  <tbody>\n",
       "    <tr>\n",
       "      <th>Ratings</th>\n",
       "      <td>5.2</td>\n",
       "      <td>5.2</td>\n",
       "      <td>7.8</td>\n",
       "      <td>6.5</td>\n",
       "      <td>6.8</td>\n",
       "      <td>6.4</td>\n",
       "      <td>7.3</td>\n",
       "      <td>5.0</td>\n",
       "      <td>8.2</td>\n",
       "      <td>5.8</td>\n",
       "      <td>...</td>\n",
       "      <td>7.4</td>\n",
       "      <td>6.6</td>\n",
       "      <td>6.8</td>\n",
       "      <td>7.9</td>\n",
       "      <td>6.2</td>\n",
       "      <td>7.8</td>\n",
       "      <td>7.5</td>\n",
       "      <td>7.5</td>\n",
       "      <td>6.3</td>\n",
       "      <td>7.1</td>\n",
       "    </tr>\n",
       "  </tbody>\n",
       "</table>\n",
       "<p>1 rows × 3165 columns</p>\n",
       "</div>"
      ],
      "text/plain": [
       "Name     \"Peacekeeping Infantry Battalion\"  #15SecondScare  'Way Out  \\\n",
       "Ratings                                5.2             5.2       7.8   \n",
       "\n",
       "Name     + de 100 mentiras  .hack//SIGN  009-1  100 Code  100 Days  \\\n",
       "Ratings                6.5          6.8    6.4       7.3       5.0   \n",
       "\n",
       "Name     10i entoli  11th Hour  ...  Zoids  Zoo  Zveroboy  Äkta människor  \\\n",
       "Ratings         8.2        5.8  ...    7.4  6.6       6.8             7.9   \n",
       "\n",
       "Name     Ängelby  Æon Flux  Çukur  Érase una vez  Ölüm Zamani  Über die Grenze  \n",
       "Ratings      6.2       7.8    7.5            7.5          6.3              7.1  \n",
       "\n",
       "[1 rows x 3165 columns]"
      ]
     },
     "execution_count": 58,
     "metadata": {},
     "output_type": "execute_result"
    }
   ],
   "source": [
    "movies = df.pivot_table(columns='Name',values='Ratings')\n",
    "movies.head()"
   ]
  },
  {
   "cell_type": "code",
   "execution_count": 59,
   "id": "21c3c618",
   "metadata": {},
   "outputs": [],
   "source": [
    "Breakingbad_ratings = movies['Breaking Bad']\n",
    "Strangerthings_ratings = movies['Stranger Things']"
   ]
  },
  {
   "cell_type": "code",
   "execution_count": 60,
   "id": "bbc15bd7",
   "metadata": {},
   "outputs": [
    {
     "data": {
      "text/plain": [
       "Ratings    9.5\n",
       "Name: Breaking Bad, dtype: float64"
      ]
     },
     "execution_count": 60,
     "metadata": {},
     "output_type": "execute_result"
    }
   ],
   "source": [
    "Breakingbad_ratings"
   ]
  },
  {
   "cell_type": "code",
   "execution_count": 61,
   "id": "7f9030e7",
   "metadata": {},
   "outputs": [
    {
     "data": {
      "text/plain": [
       "Ratings    8.7\n",
       "Name: Stranger Things, dtype: float64"
      ]
     },
     "execution_count": 61,
     "metadata": {},
     "output_type": "execute_result"
    }
   ],
   "source": [
    "Strangerthings_ratings"
   ]
  },
  {
   "cell_type": "code",
   "execution_count": 62,
   "id": "97465014",
   "metadata": {},
   "outputs": [
    {
     "name": "stderr",
     "output_type": "stream",
     "text": [
      "C:\\Users\\ASUS\\anaconda3\\lib\\site-packages\\numpy\\lib\\function_base.py:2634: RuntimeWarning: Degrees of freedom <= 0 for slice\n",
      "  c = cov(x, y, rowvar, dtype=dtype)\n",
      "C:\\Users\\ASUS\\anaconda3\\lib\\site-packages\\numpy\\lib\\function_base.py:2493: RuntimeWarning: divide by zero encountered in true_divide\n",
      "  c *= np.true_divide(1, fact)\n"
     ]
    },
    {
     "data": {
      "text/plain": [
       "Name\n",
       "\"Peacekeeping Infantry Battalion\"   NaN\n",
       "#15SecondScare                      NaN\n",
       "'Way Out                            NaN\n",
       "+ de 100 mentiras                   NaN\n",
       ".hack//SIGN                         NaN\n",
       "009-1                               NaN\n",
       "100 Code                            NaN\n",
       "100 Days                            NaN\n",
       "10i entoli                          NaN\n",
       "11th Hour                           NaN\n",
       "dtype: float64"
      ]
     },
     "execution_count": 62,
     "metadata": {},
     "output_type": "execute_result"
    }
   ],
   "source": [
    "movies.corrwith(Breakingbad_ratings).head(10)"
   ]
  },
  {
   "cell_type": "code",
   "execution_count": 63,
   "id": "70770167",
   "metadata": {},
   "outputs": [
    {
     "data": {
      "text/plain": [
       "Ratings    5.2\n",
       "Name: \"Peacekeeping Infantry Battalion\", dtype: float64"
      ]
     },
     "execution_count": 63,
     "metadata": {},
     "output_type": "execute_result"
    }
   ],
   "source": [
    "movies['\"Peacekeeping Infantry Battalion\"']"
   ]
  },
  {
   "cell_type": "code",
   "execution_count": null,
   "id": "d752295f",
   "metadata": {},
   "outputs": [],
   "source": []
  }
 ],
 "metadata": {
  "kernelspec": {
   "display_name": "Python 3 (ipykernel)",
   "language": "python",
   "name": "python3"
  },
  "language_info": {
   "codemirror_mode": {
    "name": "ipython",
    "version": 3
   },
   "file_extension": ".py",
   "mimetype": "text/x-python",
   "name": "python",
   "nbconvert_exporter": "python",
   "pygments_lexer": "ipython3",
   "version": "3.9.7"
  }
 },
 "nbformat": 4,
 "nbformat_minor": 5
}
